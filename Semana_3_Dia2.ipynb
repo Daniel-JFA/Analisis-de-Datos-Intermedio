{
 "cells": [
  {
   "cell_type": "markdown",
   "metadata": {
    "id": "bcholMKi38Qz"
   },
   "source": [
    "\n",
    "# Pandas"
   ]
  },
  {
   "cell_type": "code",
   "execution_count": 2,
   "metadata": {
    "id": "cjdALyDr5fQu"
   },
   "outputs": [],
   "source": [
    "import pandas as pd\n",
    "import numpy as np\n",
    "import warnings\n",
    "warnings.filterwarnings(\"ignore\")"
   ]
  },
  {
   "cell_type": "markdown",
   "metadata": {},
   "source": [
    "## Carga de datos"
   ]
  },
  {
   "cell_type": "code",
   "execution_count": null,
   "metadata": {},
   "outputs": [],
   "source": [
    "# Lectura de una base de datos en internet y asignación a la variable df.\n",
    "df=pd.read_csv(\"https://raw.githubusercontent.com/diplomado-bigdata-machinelearning-udea/Curso1/master/s03/dataVentas2009.csv\")"
   ]
  },
  {
   "cell_type": "code",
   "execution_count": null,
   "metadata": {
    "colab": {
     "base_uri": "https://localhost:8080/",
     "height": 204
    },
    "id": "CFy5EutLf_7U",
    "outputId": "3d29c5ee-6533-4591-ae6c-c3aae89b1514"
   },
   "outputs": [],
   "source": [
    "# Mostrar en pantalla las 8 primeras filas del dataFrame\n",
    "df.head(8)"
   ]
  },
  {
   "cell_type": "code",
   "execution_count": null,
   "metadata": {
    "colab": {
     "base_uri": "https://localhost:8080/",
     "height": 34
    },
    "id": "8RKPq77HkBJs",
    "outputId": "09099bc5-7008-40f5-d224-662ee5eb0149"
   },
   "outputs": [],
   "source": [
    "df.columns"
   ]
  },
  {
   "cell_type": "code",
   "execution_count": null,
   "metadata": {
    "colab": {
     "base_uri": "https://localhost:8080/",
     "height": 34
    },
    "id": "-taPUR91kBVJ",
    "outputId": "1f14c394-a012-4df6-ec29-4b91912fc0d7"
   },
   "outputs": [],
   "source": [
    "# Tamaño del dataframe\n",
    "df.shape"
   ]
  },
  {
   "cell_type": "code",
   "execution_count": null,
   "metadata": {
    "colab": {
     "base_uri": "https://localhost:8080/",
     "height": 297
    },
    "id": "M1J0ucuGkBXy",
    "outputId": "68634d1c-6b42-46d1-ff56-d17a8177baee"
   },
   "outputs": [],
   "source": [
    "# A continuación se analizan los tipos de datos que contiene el dataFrame anterior.\n",
    "df.dtypes"
   ]
  },
  {
   "cell_type": "code",
   "execution_count": null,
   "metadata": {},
   "outputs": [],
   "source": [
    "#Obtener un resumen conciso de los datos almacenados en el dataFrame\n",
    "df.info()"
   ]
  },
  {
   "cell_type": "code",
   "execution_count": null,
   "metadata": {},
   "outputs": [],
   "source": [
    "# Carga la tabla sin los ídices de las columnas (eje1)\n",
    "pd.read_csv(\"sampledata.csv\", header=None)"
   ]
  },
  {
   "cell_type": "code",
   "execution_count": null,
   "metadata": {},
   "outputs": [],
   "source": [
    "# Cambiar los nombres de las columas\n",
    "pd.read_csv(\"sampledata.csv\", names=[\"id\", \"Nombre\", \"Apellido\",\"Correo\", \"País\", \"Dirección_IP\", \"Longitud\",\n",
    "                                      \"Latitud\", \"Años\", \"Puntaje\"])"
   ]
  },
  {
   "cell_type": "code",
   "execution_count": null,
   "metadata": {},
   "outputs": [],
   "source": [
    "# Saltar filas \n",
    "Nombres=[\"id\", \"Nombre\", \"Apellido\",\"Correo\", \"País\", \"Dirección_IP\", \"Longitud\", \"Latitud\", \"Años\", \"Puntaje\"]\n",
    "pd.read_csv(\"sampledata.csv\", skiprows=[0, 2, 3], names=Nombres)"
   ]
  },
  {
   "cell_type": "code",
   "execution_count": null,
   "metadata": {},
   "outputs": [],
   "source": [
    "# Indexar "
   ]
  },
  {
   "cell_type": "markdown",
   "metadata": {
    "id": "N0sYljD4K4UX"
   },
   "source": [
    "## Formateo de datos temporales"
   ]
  },
  {
   "cell_type": "code",
   "execution_count": null,
   "metadata": {
    "colab": {
     "base_uri": "https://localhost:8080/",
     "height": 119
    },
    "id": "RRD46rmYLvcm",
    "outputId": "d03f096a-2c6f-4840-c6ab-2a1822050b08"
   },
   "outputs": [],
   "source": [
    "# Convertir los datos a un formato especial de tiempo\n",
    "# pd.to_datetime(df.Fecha).head()\n",
    "df.Fecha=pd.to_datetime(df.Fecha, format='%d/%m/%Y')"
   ]
  },
  {
   "cell_type": "code",
   "execution_count": null,
   "metadata": {
    "colab": {
     "base_uri": "https://localhost:8080/",
     "height": 235
    },
    "id": "l2i3pwVcAaeP",
    "outputId": "75760f5b-99fe-43e4-c8ae-792db4fce390"
   },
   "outputs": [],
   "source": [
    "# Creamos indices usando las fechas\n",
    "df.set_index('Fecha', inplace=True)\n",
    "df.head()"
   ]
  },
  {
   "cell_type": "code",
   "execution_count": null,
   "metadata": {},
   "outputs": [],
   "source": [
    "df.tail()"
   ]
  },
  {
   "cell_type": "markdown",
   "metadata": {
    "id": "L5pKpKPmN8-3"
   },
   "source": [
    "\n",
    "## Procesamiento de datos nulos"
   ]
  },
  {
   "cell_type": "code",
   "execution_count": null,
   "metadata": {
    "colab": {
     "base_uri": "https://localhost:8080/",
     "height": 235
    },
    "id": "fQRvzVfuBKRS",
    "outputId": "3ad95e9b-f922-4bb7-bae4-7009e2106d1e"
   },
   "outputs": [],
   "source": [
    "#df.isnull().head()\n",
    "df.isna().head()"
   ]
  },
  {
   "cell_type": "code",
   "execution_count": null,
   "metadata": {
    "colab": {
     "base_uri": "https://localhost:8080/",
     "height": 1000
    },
    "id": "pu5d3XsZoJuJ",
    "outputId": "683c275e-ba13-4cbb-a22c-fc17e7d58b45"
   },
   "outputs": [],
   "source": [
    "# reemplazar los valores nulos con el valor deseado\n",
    "df.Producto4.fillna(0)"
   ]
  },
  {
   "cell_type": "code",
   "execution_count": null,
   "metadata": {
    "id": "TVtHx9DhymFo"
   },
   "outputs": [],
   "source": [
    "# Puede hacerse en una sola columna `df.columna.fillna()` \n",
    "# En todas al mismo tiempo `df.fillna()`\n",
    "df.Producto4.fillna(df.Producto4.mean(),inplace=True) #Importante inplace\n",
    "df"
   ]
  },
  {
   "cell_type": "markdown",
   "metadata": {
    "id": "JozGd7c9Fsso"
   },
   "source": [
    "\n",
    "## Localización\n",
    "Usando los comandos `iloc` y `loc`  en un dataframe, se puede acceder a los datos con base en las etiquetas y la ubicación respectivamente"
   ]
  },
  {
   "cell_type": "code",
   "execution_count": null,
   "metadata": {},
   "outputs": [],
   "source": [
    "# Consultar el dato de la fila 2 columna 4\n",
    "df.iloc[1,3]"
   ]
  },
  {
   "cell_type": "code",
   "execution_count": null,
   "metadata": {},
   "outputs": [],
   "source": [
    "# Consultar los datos de las filas 1 a la 9  de las columnas 1 a 3 \n",
    "df.iloc[0:10,0:4]"
   ]
  },
  {
   "cell_type": "code",
   "execution_count": null,
   "metadata": {
    "colab": {
     "base_uri": "https://localhost:8080/",
     "height": 390
    },
    "id": "6ozNIUigzLgG",
    "outputId": "13155d92-03fc-4892-8520-6025934c7b95"
   },
   "outputs": [],
   "source": [
    "# Muestra las filas 100 a la 110\n",
    "df.iloc[100:110]"
   ]
  },
  {
   "cell_type": "code",
   "execution_count": null,
   "metadata": {},
   "outputs": [],
   "source": [
    "#Muestra las filas entre dos datos \n",
    "df.loc[\"2009-10-01\":\"2009-10-10\"]"
   ]
  },
  {
   "cell_type": "code",
   "execution_count": null,
   "metadata": {},
   "outputs": [],
   "source": [
    "# Muestra las filas desde un dato espacífico en adelante de una columna\n",
    "df[['Producto1']].iloc['2009-04-19':]"
   ]
  },
  {
   "cell_type": "code",
   "execution_count": null,
   "metadata": {
    "colab": {
     "base_uri": "https://localhost:8080/",
     "height": 390
    },
    "id": "Vy9_2BNyPJPU",
    "outputId": "d00a6d0c-f325-4aa1-ff52-45201738788a"
   },
   "outputs": [],
   "source": [
    "# Muestra las filas 100 a 110 usando los indices de las columnas \n",
    "df[['Producto1','Producto4']].iloc[100:110]"
   ]
  },
  {
   "cell_type": "code",
   "execution_count": null,
   "metadata": {
    "colab": {
     "base_uri": "https://localhost:8080/",
     "height": 1000
    },
    "id": "UZwfvVR1yVoH",
    "outputId": "b273394b-8605-4d13-a9d2-02a593ae9017"
   },
   "outputs": [],
   "source": [
    "# Muestra todas las filas de las columnas 2 a 4\n",
    "df.iloc[:,1:3]"
   ]
  },
  {
   "cell_type": "code",
   "execution_count": null,
   "metadata": {},
   "outputs": [],
   "source": [
    "# iloc no funciona \n",
    "df.loc[df.Producto2 >= 10]"
   ]
  },
  {
   "cell_type": "code",
   "execution_count": null,
   "metadata": {},
   "outputs": [],
   "source": [
    "# Muestra todos los datos con el valor elegido de la columna  \n",
    "df[df.Producto2 == 7]"
   ]
  },
  {
   "cell_type": "code",
   "execution_count": null,
   "metadata": {},
   "outputs": [],
   "source": [
    "# Cuenta los datos de todas las columna que coinciden con el dato elegido\n",
    "df[df.Producto2 == 14].count()"
   ]
  },
  {
   "cell_type": "markdown",
   "metadata": {},
   "source": [
    " Opciones\n",
    "\n",
    "* `df[column]`               Select single column or sequence of columns from the DataFrame\n",
    "* `df.loc[:, cols]`          Select single column or subset of columns by label\n",
    "* `df.loc[rows, cols]`       Select both row(s) and column(s) by label\n",
    "* `df.iloc[rows]`            Select single row or subset of rows from the DataFrame by integer position\n",
    "\n",
    "* `df.iloc[rows, cols]`      Select both row(s) and column(s) by integer position\n",
    "\n",
    "* `df.iat[row, col]`         Select a single scalar value by row and column position (integers)\n",
    "\n",
    "* `df.loc[rows]`             Select single row or subset of rows from the DataFrame by label\n",
    "* `df.iloc[:, cols]`         Select single column or subset of columns by integer position\n",
    "* `df.at[row, col]`          Select a single scalar value by row and column label\n",
    "* `reindex`                  Select either rows or columns by labels method\n",
    "\n",
    "\n",
    "     \n",
    "  \n",
    "   \n",
    "    "
   ]
  },
  {
   "cell_type": "markdown",
   "metadata": {},
   "source": [
    "## Edición de Dataframe"
   ]
  },
  {
   "cell_type": "code",
   "execution_count": null,
   "metadata": {
    "id": "y3iwyTO2gZhD"
   },
   "outputs": [],
   "source": [
    "# Modificar un valor de dataframe\n",
    "df.iloc[109,0]=1000"
   ]
  },
  {
   "cell_type": "code",
   "execution_count": null,
   "metadata": {
    "id": "JjRmd-N3hVqZ"
   },
   "outputs": [],
   "source": [
    "# Modificar un valor de dataframe\n",
    "df.loc['2009-04-19','Producto1']=999"
   ]
  },
  {
   "cell_type": "code",
   "execution_count": null,
   "metadata": {},
   "outputs": [],
   "source": [
    "# Agregamos un dato nulo \n",
    "df.loc['2009-01-02 00:00:00', 'Producto2'] = np.nan\n",
    "df.head()"
   ]
  },
  {
   "cell_type": "code",
   "execution_count": null,
   "metadata": {},
   "outputs": [],
   "source": []
  },
  {
   "cell_type": "code",
   "execution_count": null,
   "metadata": {
    "colab": {
     "base_uri": "https://localhost:8080/",
     "height": 142
    },
    "id": "ED45O4mPhiBG",
    "outputId": "e03c99f0-19c1-43b2-be71-168e3f6b0827"
   },
   "outputs": [],
   "source": [
    "# Eliminar datos por eje\n",
    "data = pd.DataFrame(np.arange(16).reshape((4, 4)), index=[\"Ohio\", \"Colorado\", \"Utah\", \"New York\"],\n",
    "                    columns=[\"one\", \"two\", \"three\",\"four\"])\n",
    "data"
   ]
  },
  {
   "cell_type": "code",
   "execution_count": null,
   "metadata": {},
   "outputs": [],
   "source": [
    "# Borramos usando los índices de la fila (eje 0)\n",
    "data.drop(index=[\"Colorado\", \"Ohio\"])"
   ]
  },
  {
   "cell_type": "code",
   "execution_count": null,
   "metadata": {},
   "outputs": [],
   "source": [
    "# Borrado de colunas\n",
    "data.drop(columns=[\"two\"])"
   ]
  },
  {
   "cell_type": "code",
   "execution_count": null,
   "metadata": {
    "colab": {
     "base_uri": "https://localhost:8080/",
     "height": 235
    },
    "id": "mH5XUssqzRTP",
    "outputId": "eb4372fa-3360-4f42-afe5-cde75c172e46"
   },
   "outputs": [],
   "source": [
    "# Organización de dataframes: Organizar los dataframes con base a los valores de columnas o filas\n",
    "df.sort_values(by=\"Producto1\").head()"
   ]
  },
  {
   "cell_type": "code",
   "execution_count": null,
   "metadata": {},
   "outputs": [],
   "source": [
    "frame = pd.DataFrame(np.arange(8).reshape((2, 4)), index=[\"three\", \"one\"],   columns=[\"d\", \"a\", \"b\", \"c\"])\n",
    "frame"
   ]
  },
  {
   "cell_type": "code",
   "execution_count": null,
   "metadata": {},
   "outputs": [],
   "source": [
    "# Ordena por el indice del eje 0\n",
    "frame.sort_index()"
   ]
  },
  {
   "cell_type": "code",
   "execution_count": null,
   "metadata": {},
   "outputs": [],
   "source": [
    "frame.sort_index(axis=\"columns\", ascending=False)"
   ]
  },
  {
   "cell_type": "markdown",
   "metadata": {},
   "source": [
    "## Índices duplicados"
   ]
  },
  {
   "cell_type": "code",
   "execution_count": null,
   "metadata": {},
   "outputs": [],
   "source": [
    "df2 = pd.DataFrame(np.random.standard_normal((5, 3)), index=[\"a\", \"a\", \"b\", \"b\", \"c\"])\n",
    "df2"
   ]
  },
  {
   "cell_type": "code",
   "execution_count": null,
   "metadata": {},
   "outputs": [],
   "source": [
    " df2.index.is_unique"
   ]
  },
  {
   "cell_type": "markdown",
   "metadata": {
    "id": "hAo8K_5pzjjA"
   },
   "source": [
    "## Graficando desde pandas\n",
    "Pandas permite realizar algunas gráficas directamente con el comando `DataFrame.plot()`.   "
   ]
  },
  {
   "cell_type": "code",
   "execution_count": null,
   "metadata": {
    "colab": {
     "base_uri": "https://localhost:8080/",
     "height": 249
    },
    "id": "s3PyHmNH02_H",
    "outputId": "33aa3743-c7a0-4525-9f2f-2c1fa7a466dd"
   },
   "outputs": [],
   "source": [
    "df.Producto1.plot(figsize=(15,3))"
   ]
  },
  {
   "cell_type": "code",
   "execution_count": null,
   "metadata": {
    "colab": {
     "base_uri": "https://localhost:8080/",
     "height": 249
    },
    "id": "sGFfkAxpzWnJ",
    "outputId": "2870e30f-60d2-4963-a2f3-a9203621faf0"
   },
   "outputs": [],
   "source": [
    "df.plot(figsize=(15,3))"
   ]
  },
  {
   "cell_type": "markdown",
   "metadata": {
    "id": "FbXvkQgdinjx"
   },
   "source": [
    "Además de gráficos de línea, pandas tiene otro tipo de gráficos los cuales se puede usar con el argumento `kind` dentro del método DataFrame.plot(). Los otro gráficos disponibles son:\n",
    "\n",
    "* `'bar'` or `'barh'` for bar plots\n",
    "* `'hist'` for histogram\n",
    "* `'box'` for boxplot\n",
    "* `'kde'` or `'density'` for density plots\n",
    "* ‘`'area'` for area plots\n",
    "* `'scatter'` for scatter plots\n",
    "* `'hexbin'` for hexagonal bin plots\n",
    "* `'pie'` for pie plots"
   ]
  },
  {
   "cell_type": "code",
   "execution_count": null,
   "metadata": {
    "colab": {
     "base_uri": "https://localhost:8080/",
     "height": 286
    },
    "id": "V0ftRiDyoG2_",
    "outputId": "9baf8ea4-a942-414b-9868-2d0903fb9065"
   },
   "outputs": [],
   "source": [
    "df.Producto1.plot(kind='hist')"
   ]
  },
  {
   "cell_type": "code",
   "execution_count": null,
   "metadata": {
    "colab": {
     "base_uri": "https://localhost:8080/",
     "height": 315
    },
    "id": "0xC0aaJKbKUW",
    "outputId": "07a473fb-c589-4685-a682-9cc68394baf4"
   },
   "outputs": [],
   "source": [
    "df.hist(column='Producto1')"
   ]
  },
  {
   "cell_type": "markdown",
   "metadata": {
    "id": "f_22rRw1W3kL"
   },
   "source": [
    "\n",
    "##  Operaciones con columnas y filas\n",
    "La función `apply` regresa algún valor después de aplicarle una función a cada columna/fila del dataframe.\n"
   ]
  },
  {
   "cell_type": "code",
   "execution_count": null,
   "metadata": {
    "id": "eCyZEb3zW2r0"
   },
   "outputs": [],
   "source": [
    "#Creamos una columna con la raíz cuadrada de los datos de otra columna\n",
    "df['Producto3sqrt']=df.Producto3.apply(np.sqrt)"
   ]
  },
  {
   "cell_type": "code",
   "execution_count": null,
   "metadata": {
    "colab": {
     "base_uri": "https://localhost:8080/",
     "height": 235
    },
    "id": "yUNmqGbsYRD5",
    "outputId": "52791048-7f8e-4673-83f0-72680ca77740"
   },
   "outputs": [],
   "source": [
    "df.tail()"
   ]
  },
  {
   "cell_type": "code",
   "execution_count": null,
   "metadata": {
    "colab": {
     "base_uri": "https://localhost:8080/",
     "height": 119
    },
    "id": "i3LBg-iZYbxY",
    "outputId": "1dbd2fbd-9189-40d2-cb89-b64f68eb3c51"
   },
   "outputs": [],
   "source": [
    "# Sumamos todos los datos por columna\n",
    "df.apply(np.sum, axis=0)"
   ]
  },
  {
   "cell_type": "code",
   "execution_count": null,
   "metadata": {
    "colab": {
     "base_uri": "https://localhost:8080/",
     "height": 272
    },
    "id": "kw2hTTsiolEn",
    "outputId": "9bf7f81b-dd39-4eaf-f5e7-a8cd63871983"
   },
   "outputs": [],
   "source": [
    "df.apply(np.sum, axis=0).plot(kind='pie')"
   ]
  },
  {
   "cell_type": "markdown",
   "metadata": {
    "id": "ssS9xwPYz-fW"
   },
   "source": [
    "##  Agrupando dataframes\n",
    "El comando `groupby` permite agrupar y generar calculos y operaciónes sobre los valores agrupados."
   ]
  },
  {
   "cell_type": "code",
   "execution_count": null,
   "metadata": {},
   "outputs": [],
   "source": [
    "df.index"
   ]
  },
  {
   "cell_type": "code",
   "execution_count": null,
   "metadata": {
    "colab": {
     "base_uri": "https://localhost:8080/",
     "height": 235
    },
    "id": "Xyw-6Pzw0H6O",
    "outputId": "216e6356-f2f9-47d5-ac29-6b3da7107a0c"
   },
   "outputs": [],
   "source": [
    "# Agregamos una columna y llenamos datos \n",
    "df[\"month\"] = [i.month for i in df.index]\n",
    "df.tail()"
   ]
  },
  {
   "cell_type": "code",
   "execution_count": null,
   "metadata": {
    "colab": {
     "base_uri": "https://localhost:8080/",
     "height": 452
    },
    "id": "aRAVt8rUzpLY",
    "outputId": "ee9f17c4-85c1-4e9d-af35-edab5ee0d7d2"
   },
   "outputs": [],
   "source": [
    "# Calcula el máximo por mes\n",
    "df.groupby(\"month\").max()"
   ]
  },
  {
   "cell_type": "code",
   "execution_count": null,
   "metadata": {
    "colab": {
     "base_uri": "https://localhost:8080/",
     "height": 255
    },
    "id": "YzsSLl_hz9LB",
    "outputId": "92d59e54-9641-4d27-b783-edb53f831e97"
   },
   "outputs": [],
   "source": [
    "# Cuenta el número datos en una columna por mes\n",
    "df.groupby(\"month\")[\"Producto1\"].count()"
   ]
  },
  {
   "cell_type": "code",
   "execution_count": null,
   "metadata": {
    "colab": {
     "base_uri": "https://localhost:8080/",
     "height": 297
    },
    "id": "UFkYHBpIEV2t",
    "outputId": "ad66e8cb-2d70-491a-fe65-43b14e05f3dd"
   },
   "outputs": [],
   "source": [
    "df2 = pd.DataFrame({\"Person\": [\"John\", \"Myla\", \"Lewis\", \"John\", \"Myla\", \"Lewis\", \"John\", \"Myla\"], \"Age\": [24, 55, 21, 24, 26, 43, 64, 55]})\n",
    "df2.head(8)"
   ]
  },
  {
   "cell_type": "code",
   "execution_count": null,
   "metadata": {
    "colab": {
     "base_uri": "https://localhost:8080/",
     "height": 102
    },
    "id": "71xLKPMAAsM3",
    "outputId": "53596fcc-bde5-40d4-efa1-f60867450181"
   },
   "outputs": [],
   "source": [
    "# Agrupar por persona y aplicar \"min\" a \"Age\"\n",
    "df2.groupby(\"Person\").Age.agg(\"min\")\n",
    "#df2.groupby(\"Person\").Age.agg([\"min\"])\n"
   ]
  },
  {
   "cell_type": "code",
   "execution_count": null,
   "metadata": {
    "colab": {
     "base_uri": "https://localhost:8080/",
     "height": 266
    },
    "id": "mlRSIjfxGEkG",
    "outputId": "93e8ffff-a20e-4218-e1bc-ed23887573c5"
   },
   "outputs": [],
   "source": [
    "# Agrupar por persona y edad y aplicar \"count\" a \"Age\"\n",
    "df2.groupby([\"Person\",\"Age\"]).agg({\"Age\":\"count\"})"
   ]
  },
  {
   "cell_type": "code",
   "execution_count": null,
   "metadata": {
    "colab": {
     "base_uri": "https://localhost:8080/",
     "height": 136
    },
    "id": "98rgSQOcWudL",
    "outputId": "1e959fe0-591d-4232-a304-1370e9f43ba8"
   },
   "outputs": [],
   "source": [
    "# frecuencia de las edades\n",
    "df2['Age'].value_counts()\n",
    "#df2[\"Age\"].value_counts(Normlize=True)"
   ]
  },
  {
   "cell_type": "markdown",
   "metadata": {
    "id": "fBvOlZqSsMz5"
   },
   "source": [
    "## Concatenación y combinación de dataframes\n",
    "\n",
    "La concatenación se realiza mediante la función `concat()` y la combinación mediante la función `merge()`"
   ]
  },
  {
   "cell_type": "code",
   "execution_count": null,
   "metadata": {
    "id": "kxTLE1_0sL-B"
   },
   "outputs": [],
   "source": [
    "raw_data_1 = {\n",
    "        'subject_id': ['1', '2', '3', '4', '5'],\n",
    "        'first_name': ['Alex', 'Amy', 'Allen', 'Alice', 'Ayoung'],\n",
    "        'last_name': ['Anderson', 'Ackerman', 'Ali', 'Aoni', 'Atiches']}\n",
    "\n",
    "raw_data_2 = {\n",
    "        'subject_id': ['4', '5', '6', '7', '8'],\n",
    "        'first_name': ['Billy', 'Brian', 'Bran', 'Bryce', 'Betty'],\n",
    "        'last_name': ['Bonder', 'Black', 'Balwner', 'Brice', 'Btisan']}\n",
    "\n",
    "raw_data_3 = {\n",
    "        'subject_id': ['1', '2', '3', '4', '5', '7', '8', '9', '10', '11'],\n",
    "        'test_id': [51, 15, 15, 61, 16, 14, 15, 1, 61, 16]}\n",
    "\n",
    "data1 = pd.DataFrame(raw_data_1, columns = ['subject_id', 'first_name', 'last_name'])\n",
    "data2 = pd.DataFrame(raw_data_2, columns = ['subject_id', 'first_name', 'last_name'])\n",
    "data3 = pd.DataFrame(raw_data_3, columns = ['subject_id','test_id'])"
   ]
  },
  {
   "cell_type": "code",
   "execution_count": null,
   "metadata": {
    "colab": {
     "base_uri": "https://localhost:8080/",
     "height": 359
    },
    "id": "vbHWFPRRsmNI",
    "outputId": "e47e1775-5507-4a8e-db85-2fbe45617905"
   },
   "outputs": [],
   "source": [
    "# Concatenar por filas\n",
    "all_data = pd.concat([data1, data2])\n",
    "all_data"
   ]
  },
  {
   "cell_type": "code",
   "execution_count": null,
   "metadata": {
    "colab": {
     "base_uri": "https://localhost:8080/",
     "height": 204
    },
    "id": "4koHlxR0tA4l",
    "outputId": "91fb9d5d-1d10-446c-d836-77c5ddeb5c06"
   },
   "outputs": [],
   "source": [
    "# Concatenar por columnas\n",
    "all_data_col = pd.concat([data1, data2], axis = 1)\n",
    "all_data_col"
   ]
  },
  {
   "cell_type": "code",
   "execution_count": null,
   "metadata": {
    "colab": {
     "base_uri": "https://localhost:8080/",
     "height": 328
    },
    "id": "RGbNfQvis92d",
    "outputId": "c0abe7e0-91f0-441f-aa9e-cdb886b0a52c"
   },
   "outputs": [],
   "source": [
    "# Combinar all_data y data3 a lo largo del valor de subject_id\n",
    "pd.merge(all_data, data3, on='subject_id')"
   ]
  },
  {
   "cell_type": "code",
   "execution_count": null,
   "metadata": {
    "colab": {
     "base_uri": "https://localhost:8080/",
     "height": 111
    },
    "id": "h7UW_E-BthxT",
    "outputId": "c45d03ea-60ac-404c-a98d-14b10f995f11"
   },
   "outputs": [],
   "source": [
    "# Combinar solo los datos que tienen el mismo 'subject_id' en data1 y data2 (interseccion)\n",
    "pd.merge(data1, data2, on='subject_id', how='inner')"
   ]
  },
  {
   "cell_type": "code",
   "execution_count": null,
   "metadata": {
    "colab": {
     "base_uri": "https://localhost:8080/",
     "height": 297
    },
    "id": "BQqrG4TitxYg",
    "outputId": "6743a5ee-304d-42fd-83e3-e53297d91328"
   },
   "outputs": [],
   "source": [
    "# Combinar solo los datos que tienen el mismo 'subject_id' en data1 y data2 (union)\n",
    "pd.merge(data1, data2, on='subject_id', how='outer')\n",
    "\n"
   ]
  },
  {
   "cell_type": "markdown",
   "metadata": {
    "id": "O2ehaErhoIav"
   },
   "source": [
    "<p><a name=\"tallpan\"></a></p>\n",
    "\n",
    "## 3. Taller Pandas"
   ]
  },
  {
   "cell_type": "markdown",
   "metadata": {
    "id": "yz3mwAY5mdCi"
   },
   "source": [
    "### Ejercicio 1\n",
    "\n",
    "Cargue el dataset provisto en la dirección 'https://pynative.com/wp-content/uploads/2019/01/company_sales_data.csv'  grafique la ganancia total (total_profit) para todos los meses. La gráfica debe tener las siguientes propiedades:\n",
    "\n",
    "* El estilo de línea punteado y de color rojo\n",
    "* Mostrar la legenda (legend) en la parte inferior derecha\n",
    "* X label name = Month Number\n",
    "* Y label name = Profits in dollars\n",
    "* Título : Company sales data of last year\n",
    "* Los markers deben ser circulares y de color negro\n",
    "* El grosor de la línea debe ser 3\n",
    "\n",
    "Solución esperada:\n",
    "<p><img  height=\"260px\" src=\"https://pynative.com/wp-content/uploads/2019/01/matplotlib_and_pandas_exercise_2_plot_style_properties-768x512.png\" align=\"center\" hspace=\"10px\" vspace=\"0px\"></p>"
   ]
  },
  {
   "cell_type": "code",
   "execution_count": 32,
   "metadata": {},
   "outputs": [
    {
     "name": "stdout",
     "output_type": "stream",
     "text": [
      "<class 'pandas.core.frame.DataFrame'>\n",
      "RangeIndex: 12 entries, 0 to 11\n",
      "Data columns (total 9 columns):\n",
      " #   Column        Non-Null Count  Dtype\n",
      "---  ------        --------------  -----\n",
      " 0   month_number  12 non-null     int64\n",
      " 1   facecream     12 non-null     int64\n",
      " 2   facewash      12 non-null     int64\n",
      " 3   toothpaste    12 non-null     int64\n",
      " 4   bathingsoap   12 non-null     int64\n",
      " 5   shampoo       12 non-null     int64\n",
      " 6   moisturizer   12 non-null     int64\n",
      " 7   total_units   12 non-null     int64\n",
      " 8   total_profit  12 non-null     int64\n",
      "dtypes: int64(9)\n",
      "memory usage: 992.0 bytes\n"
     ]
    }
   ],
   "source": [
    "import seaborn as sns\n",
    "\n",
    "import matplotlib.pyplot as plt\n",
    "df=pd.read_csv('company_sales_data.csv')\n",
    "df.info()"
   ]
  },
  {
   "cell_type": "code",
   "execution_count": 33,
   "metadata": {},
   "outputs": [
    {
     "ename": "ModuleNotFoundError",
     "evalue": "No module named 'seaborn.objects'",
     "output_type": "error",
     "traceback": [
      "\u001b[0;31m---------------------------------------------------------------------------\u001b[0m",
      "\u001b[0;31mModuleNotFoundError\u001b[0m                       Traceback (most recent call last)",
      "\u001b[0;32m/var/folders/k2/96ssgt_s271_zrl3hjhrx45m0000gn/T/ipykernel_6819/1225657923.py\u001b[0m in \u001b[0;36m<module>\u001b[0;34m\u001b[0m\n\u001b[0;32m----> 1\u001b[0;31m \u001b[0;32mimport\u001b[0m \u001b[0mseaborn\u001b[0m\u001b[0;34m.\u001b[0m\u001b[0mobjects\u001b[0m \u001b[0;32mas\u001b[0m \u001b[0mso\u001b[0m\u001b[0;34m\u001b[0m\u001b[0;34m\u001b[0m\u001b[0m\n\u001b[0m",
      "\u001b[0;31mModuleNotFoundError\u001b[0m: No module named 'seaborn.objects'"
     ]
    }
   ],
   "source": [
    "import seaborn.objects as so"
   ]
  },
  {
   "cell_type": "code",
   "execution_count": 30,
   "metadata": {},
   "outputs": [
    {
     "data": {
      "image/png": "[encoded data removed]",
      "text/plain": [
       "<Figure size 500x500 with 1 Axes>"
      ]
     },
     "metadata": {},
     "output_type": "display_data"
    }
   ],
   "source": [
    "sns.relplot(data=df, x='month_number', y='total_profit', kind='line', marker='o', linestyle='--', color='r',\n",
    "           markerfacecolor='k',linewidth=3, )\n",
    "plt.show()"
   ]
  },
  {
   "cell_type": "markdown",
   "metadata": {
    "id": "FmT4jjbmmqFq"
   },
   "source": [
    "Para ver la solución haga double-click <b>aquí</b>.\n",
    "<!--\n",
    "\n",
    "import pandas as pd\n",
    "import matplotlib.pyplot as plt  \n",
    "df = pd.read_csv('https://pynative.com/wp-content/uploads/2019/01/company_sales_data.csv')\n",
    "profitList = df ['total_profit'].tolist()\n",
    "monthList  = df ['month_number'].tolist()\n",
    "plt.plot(monthList, profitList, label = 'Profit data of last year',\n",
    "      color='r', marker='o', markerfacecolor='k',\n",
    "      linestyle='--', linewidth=3)\n",
    "      \n",
    "plt.xlabel('Month Number')\n",
    "plt.ylabel('Profit in dollar')\n",
    "plt.legend(loc='lower right')\n",
    "plt.title('Company Sales data of last year')\n",
    "plt.xticks(monthList)\n",
    "plt.yticks([100000, 200000, 300000, 400000, 500000])\n",
    "plt.show()\n",
    "-->"
   ]
  },
  {
   "cell_type": "markdown",
   "metadata": {
    "id": "es-m65sEpb7b"
   },
   "source": [
    "### Ejercicio 2\n",
    "\n",
    "Dataset: https://raw.githubusercontent.com/justmarkham/DAT8/master/data/u.user\n",
    "\n",
    "1. Importar el dataset, asignarlo a una variable llamada *users* y usar el *user_id* como índice.\n",
    "2. ¿Cuál es el número de observaciones y columnas en el dataset?\n",
    "3. Mostrar el nombre de las columnas y el tipo de dato que contiene.\n",
    "4. Mostrar la indexación del dataset.\n",
    "5. ¿Cuántas ocupaciones diferentes hay en este conjunto de datos?\n",
    "6. ¿Cuál es la ocupación más frecuente?\n",
    "7. ¿Cuál es la edad media de los usuarios?\n",
    "8. ¿Cuál es la edad con menos ocurrencia?\n"
   ]
  },
  {
   "cell_type": "markdown",
   "metadata": {
    "id": "Wuwt_G1GpbN_"
   },
   "source": [
    "Para ver la solución haga double-click <b>aquí</b>.\n",
    "<!--\n",
    "\n",
    "1.\n",
    "\n",
    "import pandas as pd\n",
    "\n",
    "users = pd.read_csv('https://raw.githubusercontent.com/justmarkham/DAT8/master/data/u.user', delimiter='|', index_col='user_id')\n",
    "users.head()\n",
    "  \n",
    "2.\n",
    "print(\"Número de observaciones:\",users.shape[0])\n",
    "print(\"Número de columnas: \",users.shape[1])\n",
    "\n",
    "3.\n",
    "print(\"Columnas: \",users.columns)\n",
    "print(\"Tipo de datos: \\n\",users.dtypes)\n",
    "\n",
    "4.\n",
    "print(\"Indexación: \",users.index)\n",
    "\n",
    "5.\n",
    "print(\"Número de ocupaciones diferentes:\",users.occupation.nunique())\n",
    "\n",
    "6.\n",
    "print(\"Ocupaciones más frecuentes:\\n\",users.occupation.value_counts().head())\n",
    "\n",
    "7.\n",
    "print(\"Edad media de los usuarios:\",round(users.age.mean()))\n",
    "\n",
    "8.\n",
    "print(\"Edades de menos ocurrencia:\\n\",users.age.value_counts().tail(10))\n",
    "\n",
    "-->"
   ]
  },
  {
   "cell_type": "markdown",
   "metadata": {
    "id": "pCX-t7lsuSVv"
   },
   "source": [
    "### Ejercicio 3"
   ]
  },
  {
   "cell_type": "markdown",
   "metadata": {
    "id": "brSEH5NbyWwA"
   },
   "source": [
    "Diccionario dado:\n",
    "\n",
    "raw_data = {'regiment': ['Nighthawks', 'Nighthawks', 'Nighthawks', 'Nighthawks', 'Dragoons', 'Dragoons', 'Dragoons', 'Dragoons', 'Scouts', 'Scouts', 'Scouts', 'Scouts'],\n",
    "            'company': ['1st', '1st', '2nd', '2nd', '1st', '1st', '2nd', '2nd','1st', '1st', '2nd', '2nd'],\n",
    "            'deaths': [523, 52, 25, 616, 43, 234, 523, 62, 62, 73, 37, 35],\n",
    "            'battles': [5, 42, 2, 2, 4, 7, 8, 3, 4, 7, 8, 9],\n",
    "            'size': [1045, 957, 1099, 1400, 1592, 1006, 987, 849, 973, 1005, 1099, 1523],\n",
    "            'veterans': [1, 5, 62, 26, 73, 37, 949, 48, 48, 435, 63, 345],\n",
    "            'readiness': [1, 2, 3, 3, 2, 1, 2, 3, 2, 1, 2, 3],\n",
    "            'armored': [1, 0, 1, 1, 0, 1, 0, 1, 0, 0, 1, 1],\n",
    "            'deserters': [4, 24, 31, 2, 3, 4, 24, 31, 2, 3, 2, 3],\n",
    "            'origin': ['Arizona', 'California', 'Texas', 'Florida', 'Maine', 'Iowa', 'Alaska', 'Washington', 'Oregon', 'Wyoming', 'Louisana', 'Georgia']}\n",
    "            \n",
    "1. Crea un DataFrame llamado *army* a partir del diccionario dado\n",
    "\n",
    "(No olvide incluir los nombres de las columnas en el orden presentado en el diccionario ('regimen', 'company', ...) para que el orden del índice de la columna sea coherente con las soluciones. Si se omite, Pandas ordenará las columnas alfabéticamente.\n",
    "\n",
    "2. Establezca la columna 'origin' como índice del dataset.\n",
    "3. Imprima las columnas 'veterans' y 'deaths'\n",
    "4. Seleccione las columnas 'deaths', 'size' y 'deserters' de Maine a Alaska.\n",
    "5. Seleccione la tercera columna hasta la séptima columna.\n",
    "6. Seleccione las filas donde *deaths* sea mayor que 50.\n",
    "7. Seleccione las filas donde *deaths* sea mayor que 500 o menor que 50.\n",
    "8. Selecciona todos los *regiments* no nombrados *Dragoons*.\n",
    "9. Seleccione la tercera celda en la fila llamada *Arizona*\n",
    "10. Seleccione la tercera celda en la columna llamada *deaths*\n"
   ]
  },
  {
   "cell_type": "markdown",
   "metadata": {
    "id": "gTBNeJy0yQFB"
   },
   "source": [
    "Para ver la solución haga double-click <b>aquí</b>.\n",
    "<!--\n",
    "1.\n",
    "raw_data = {'regiment': ['Nighthawks', 'Nighthawks', 'Nighthawks', 'Nighthawks', 'Dragoons', 'Dragoons', 'Dragoons', 'Dragoons', 'Scouts', 'Scouts', 'Scouts', 'Scouts'], 'company': ['1st', '1st', '2nd', '2nd', '1st', '1st', '2nd', '2nd','1st', '1st', '2nd', '2nd'], 'deaths': [523, 52, 25, 616, 43, 234, 523, 62, 62, 73, 37, 35], 'battles': [5, 42, 2, 2, 4, 7, 8, 3, 4, 7, 8, 9], 'size': [1045, 957, 1099, 1400, 1592, 1006, 987, 849, 973, 1005, 1099, 1523], 'veterans': [1, 5, 62, 26, 73, 37, 949, 48, 48, 435, 63, 345], 'readiness': [1, 2, 3, 3, 2, 1, 2, 3, 2, 1, 2, 3], 'armored': [1, 0, 1, 1, 0, 1, 0, 1, 0, 0, 1, 1], 'deserters': [4, 24, 31, 2, 3, 4, 24, 31, 2, 3, 2, 3], 'origin': ['Arizona', 'California', 'Texas', 'Florida', 'Maine', 'Iowa', 'Alaska', 'Washington', 'Oregon', 'Wyoming', 'Louisana', 'Georgia']}\n",
    "\n",
    "army = pd.DataFrame(raw_data, columns = ['regiment', 'company', 'deaths', 'battles', 'size', 'veterans', 'readiness', 'armored', 'deserters', 'origin'])\n",
    "\n",
    "army.head()\n",
    "\n",
    "2.\n",
    "army = army.set_index(\"origin\")\n",
    "army.head()\n",
    "\n",
    "3.\n",
    "army[['veterans', 'deaths']]\n",
    "\n",
    "4.\n",
    "army.loc[['Maine','Alaska'] , [\"deaths\",\"size\",\"deserters\"]]\n",
    "\n",
    "5.\n",
    "army.iloc[: , 4:7]\n",
    "\n",
    "6.\n",
    "army[army['deaths'] > 50]\n",
    "\n",
    "7.\n",
    "army[(army['deaths'] > 500) | (army['deaths'] < 50)]\n",
    "\n",
    "8.\n",
    "army[(army['regiment'] != 'Dragoons')]\n",
    "\n",
    "9.\n",
    "army.loc[['Arizona'], ['deaths']]\n",
    "\n",
    "#O\n",
    "\n",
    "#army.iloc[[0]\n",
    "\n",
    "10.\n",
    "army.loc['Texas', 'deaths']\n",
    "\n",
    "#O\n",
    "\n",
    "#army.iloc[[2]\n",
    "\n",
    "\n",
    "-->"
   ]
  },
  {
   "cell_type": "markdown",
   "metadata": {
    "id": "2uqS7sNd8_Fk"
   },
   "source": [
    "### Ejercicio 4\n",
    "\n",
    "Dataset: https://raw.githubusercontent.com/justmarkham/DAT8/master/data/u.user\n",
    "\n",
    "1.  Importar el dataset, asignarlo a una variable llamada *users* y usar el *user_id* como índice.\n",
    "2. ¿Cuál es la edad media por ocupación?\n",
    "3. Descubra la proporción de hombres por ocupación y clasifíquela de mayor a menor (cree una columna).\n",
    "4. Para cada ocupación calcule las edades mínimas y máximas.\n",
    "5. Para cada combinación de ocupación y género calcule la edad media.\n",
    "6. Para cada ocupación muestre el porcentaje de mujeres y hombres."
   ]
  },
  {
   "cell_type": "markdown",
   "metadata": {
    "id": "TVbi8B-a-gZ9"
   },
   "source": [
    "Para ver la solución haga double-click <b>aquí</b>.\n",
    "<!--\n",
    "\n",
    "1.\n",
    "\n",
    "import pandas as pd\n",
    "\n",
    "users = pd.read_csv('https://raw.githubusercontent.com/justmarkham/DAT8/master/data/u.user', delimiter='|', index_col='user_id')\n",
    "users.head()\n",
    "  \n",
    "2.\n",
    "users.groupby('occupation').age.mean()\n",
    "\n",
    "3.\n",
    "# funcion que mapea el genero a un numero\n",
    "def gender_to_numeric(x):\n",
    "    if x == 'M':\n",
    "        return 1\n",
    "    if x == 'F':\n",
    "        return 0\n",
    "\n",
    "# aplica la funcion a la columna genero y saca el porcentaje de hombres por ocupacion\n",
    "users['gender_n'] = users['gender'].apply(gender_to_numeric)\n",
    "\n",
    "# se\n",
    "a = users.groupby('occupation').gender_n.sum() / users.occupation.value_counts() * 100\n",
    "\n",
    "# ordenamiento de mayor a menor\n",
    "a.sort_values(ascending = False)\n",
    "\n",
    "4.\n",
    "users.groupby('occupation').age.agg(['min', 'max'])\n",
    "\n",
    "5.\n",
    "users.groupby(['occupation', 'gender']).age.mean()\n",
    "\n",
    "6.\n",
    "# crea un dataframe y aplica \"count\" al genero\n",
    "gender_ocup = users.groupby(['occupation', 'gender']).agg({'gender': 'count'})\n",
    "\n",
    "# crea un dataframe y aplica \"count\" para cada ocupacion\n",
    "occup_count = users.groupby(['occupation']).agg('count')\n",
    "\n",
    "# divida gender_ocup por occup_count y multiplique por 100\n",
    "occup_gender = gender_ocup.div(occup_count, level = \"occupation\") * 100\n",
    "\n",
    "# mostrar todas las filas de la columna genero\n",
    "occup_gender.loc[: , 'gender']\n",
    "\n",
    "-->"
   ]
  }
 ],
 "metadata": {
  "colab": {
   "provenance": []
  },
  "kernelspec": {
   "display_name": "Python 3 (ipykernel)",
   "language": "python",
   "name": "python3"
  },
  "language_info": {
   "codemirror_mode": {
    "name": "ipython",
    "version": 3
   },
   "file_extension": ".py",
   "mimetype": "text/x-python",
   "name": "python",
   "nbconvert_exporter": "python",
   "pygments_lexer": "ipython3",
   "version": "3.9.13"
  }
 },
 "nbformat": 4,
 "nbformat_minor": 1
}
